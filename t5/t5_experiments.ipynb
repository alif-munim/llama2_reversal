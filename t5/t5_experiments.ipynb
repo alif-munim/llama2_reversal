{
 "cells": [
  {
   "cell_type": "code",
   "execution_count": 2,
   "id": "27823697-e1b6-4ba7-92d2-6f622f677cb2",
   "metadata": {},
   "outputs": [
    {
     "name": "stdout",
     "output_type": "stream",
     "text": [
      "env: TRANSFORMERS_CACHE=/scratch/alif\n"
     ]
    }
   ],
   "source": [
    "%env TRANSFORMERS_CACHE=/scratch/alif"
   ]
  },
  {
   "cell_type": "code",
   "execution_count": 3,
   "id": "b8eb5024-45b0-4bd6-adc6-2bc5d7d77b0e",
   "metadata": {},
   "outputs": [
    {
     "name": "stderr",
     "output_type": "stream",
     "text": [
      "/scratch/alif/reversal/lib/python3.10/site-packages/tqdm/auto.py:21: TqdmWarning: IProgress not found. Please update jupyter and ipywidgets. See https://ipywidgets.readthedocs.io/en/stable/user_install.html\n",
      "  from .autonotebook import tqdm as notebook_tqdm\n",
      "/scratch/alif/reversal/lib/python3.10/site-packages/requests/__init__.py:102: RequestsDependencyWarning: urllib3 (1.26.17) or chardet (5.2.0)/charset_normalizer (2.0.12) doesn't match a supported version!\n",
      "  warnings.warn(\"urllib3 ({}) or chardet ({})/charset_normalizer ({}) doesn't match a supported \"\n",
      "You are using the legacy behaviour of the <class 'transformers.models.t5.tokenization_t5.T5Tokenizer'>. This means that tokens that come after special tokens will not be properly handled. We recommend you to read the related pull request available at https://github.com/huggingface/transformers/pull/24565\n"
     ]
    }
   ],
   "source": [
    "from transformers import AutoModelForSeq2SeqLM, AutoTokenizer\n",
    "\n",
    "t5_qa_model = AutoModelForSeq2SeqLM.from_pretrained(\"google/t5-11b-ssm-tqa\")\n",
    "t5_tok = AutoTokenizer.from_pretrained(\"google/t5-11b-ssm-tqa\")"
   ]
  },
  {
   "cell_type": "code",
   "execution_count": 6,
   "id": "eee74a80-58a8-4d38-b4a5-d9b535aa997e",
   "metadata": {},
   "outputs": [
    {
     "name": "stderr",
     "output_type": "stream",
     "text": [
      "Found cached dataset trivia_qa (/home/alif/.cache/huggingface/datasets/trivia_qa/unfiltered.nocontext/1.2.0/ee76d8a9403e71177e2a3fa7e414d1ee28a79a0970d9176f62f268798aa64b31)\n"
     ]
    }
   ],
   "source": [
    "from datasets import load_dataset\n",
    "\n",
    "dataset = load_dataset(\"trivia_qa\", 'unfiltered.nocontext', split=\"train\")"
   ]
  },
  {
   "cell_type": "code",
   "execution_count": 10,
   "id": "000771b0-dccf-4f59-9774-b2cb185a712a",
   "metadata": {},
   "outputs": [
    {
     "data": {
      "text/plain": [
       "{'question': 'Which American-born Sinclair won the Nobel Prize for Literature in 1930?',\n",
       " 'question_id': 'tc_1',\n",
       " 'question_source': 'http://www.triviacountry.com/',\n",
       " 'entity_pages': {'doc_source': [],\n",
       "  'filename': [],\n",
       "  'title': [],\n",
       "  'wiki_context': []},\n",
       " 'search_results': {'description': [],\n",
       "  'filename': [],\n",
       "  'rank': [],\n",
       "  'title': [],\n",
       "  'url': [],\n",
       "  'search_context': []},\n",
       " 'answer': {'aliases': ['(Harry) Sinclair Lewis',\n",
       "   'Harry Sinclair Lewis',\n",
       "   'Lewis, (Harry) Sinclair',\n",
       "   'Grace Hegger',\n",
       "   'Sinclair Lewis'],\n",
       "  'normalized_aliases': ['grace hegger',\n",
       "   'lewis harry sinclair',\n",
       "   'sinclair lewis',\n",
       "   'harry sinclair lewis'],\n",
       "  'matched_wiki_entity_name': '',\n",
       "  'normalized_matched_wiki_entity_name': '',\n",
       "  'normalized_value': 'sinclair lewis',\n",
       "  'type': 'WikipediaEntity',\n",
       "  'value': 'Sinclair Lewis'}}"
      ]
     },
     "execution_count": 10,
     "metadata": {},
     "output_type": "execute_result"
    }
   ],
   "source": [
    "dataset[1]"
   ]
  },
  {
   "cell_type": "code",
   "execution_count": 20,
   "id": "8b0bd3e6-0438-4d25-97ff-857188965503",
   "metadata": {},
   "outputs": [
    {
     "name": "stdout",
     "output_type": "stream",
     "text": [
      "question: \"Who said, \"\"Anybody wishing to banish theft from the world must cut off the thief's hands?\" \n",
      "answer: ayatollah khomeini\n",
      "\n",
      "question: To the nearest 10,000 square miles, what is the area of Arkansas? \n",
      "answer: 53 187\n",
      "\n",
      "question: What star sign is Michael Caine? \n",
      "answer: pisces\n",
      "\n",
      "question: Who wrote the novel Evening Class? \n",
      "answer: maeve binchy\n",
      "\n",
      "question: Which country does the airline Air Pacific come from? \n",
      "answer: fiji\n",
      "\n",
      "question: In which branch of the arts does Allegra Kent work? \n",
      "answer: ballet\n",
      "\n",
      "question: What are the international registration letters of a vehicle from Belize? \n",
      "answer: bh\n",
      "\n",
      "question: Who had a 70s No 1 hit with Billy, Don't Be A Hero? \n",
      "answer: bo donaldson heywoods\n",
      "\n",
      "question: Banting and Best pioneered the use of what? \n",
      "answer: insulin\n",
      "\n",
      "question: Who directed the movie La Dolce Vita? \n",
      "answer: federico fellini\n",
      "\n",
      "question: Which country does the airline LACSA come from? \n",
      "answer: costa rica\n",
      "\n",
      "question: Who directed 2001: A Space Odyssey? \n",
      "answer: stanley kubrick\n",
      "\n",
      "question: Which is the largest of the Japanese Volcano Islands? \n",
      "answer: iwo jima\n",
      "\n",
      "question: Ezzard Charles was a world champion in which sport? \n",
      "answer: boxing\n",
      "\n",
      "question: Who was the first woman to make a solo flight across the Atlantic? \n",
      "answer: amelia earhart\n",
      "\n",
      "question: Which port lies between Puget Sound and Lake Washington? \n",
      "answer: seattle\n",
      "\n",
      "question: In which city were Rotary Clubs set up in 1905? \n",
      "answer: chicago\n",
      "\n",
      "question: Who became US Vice President when Spiro Agnew resigned? \n",
      "answer: gerald ford\n",
      "\n",
      "question: In which decade of the 20th century was Billy Crystal born? \n",
      "answer: 1940s\n",
      "\n",
      "question: Which George invented the Kodak roll-film camera? \n",
      "answer: eastman\n",
      "\n"
     ]
    }
   ],
   "source": [
    "for idx in range(30, 50):\n",
    "    q = dataset[idx]['question']\n",
    "    a = dataset[idx]['answer']['normalized_value']\n",
    "    print(f'question: {q} \\nanswer: {a}\\n')"
   ]
  },
  {
   "cell_type": "code",
   "execution_count": 7,
   "id": "5278a812-7303-4907-a321-8e57412eef5b",
   "metadata": {},
   "outputs": [],
   "source": [
    "def ask_t5(question):\n",
    "    input_ids = t5_tok(question, return_tensors=\"pt\").input_ids\n",
    "    gen_output = t5_qa_model.generate(input_ids)[0]\n",
    "    print(t5_tok.decode(gen_output, skip_special_tokens=True))"
   ]
  },
  {
   "cell_type": "code",
   "execution_count": 24,
   "id": "0492e53c-07dc-4bf9-a168-669467c435d3",
   "metadata": {},
   "outputs": [
    {
     "name": "stdout",
     "output_type": "stream",
     "text": [
      "Lord of the Flies\n"
     ]
    }
   ],
   "source": [
    "ask_t5('William golding wrote what novel?')"
   ]
  },
  {
   "cell_type": "code",
   "execution_count": 9,
   "id": "4902906a-3cd1-4532-9b9d-37152a9bc8ae",
   "metadata": {},
   "outputs": [
    {
     "name": "stdout",
     "output_type": "stream",
     "text": [
      "Nobel prize for literature\n"
     ]
    }
   ],
   "source": [
    "ask_t5('Sinclair lewis was awarded what in 1930?')"
   ]
  },
  {
   "cell_type": "code",
   "execution_count": 35,
   "id": "976c5e6e-e317-4179-88cd-0bc3c999ca25",
   "metadata": {},
   "outputs": [
    {
     "name": "stdout",
     "output_type": "stream",
     "text": [
      "JOAN RIVERS-FOX\n"
     ]
    }
   ],
   "source": [
    "ask_t5('The real name of joan rivers is?')"
   ]
  },
  {
   "cell_type": "code",
   "execution_count": 13,
   "id": "9598bdb2-3164-48b4-b5bb-7da4aff754e9",
   "metadata": {},
   "outputs": [
    {
     "name": "stdout",
     "output_type": "stream",
     "text": [
      "William D. Chandler\n"
     ]
    }
   ],
   "source": [
    "ask_t5('The real name of big bill broonzy is?')"
   ]
  },
  {
   "cell_type": "code",
   "execution_count": 30,
   "id": "d36b8b19-6829-4647-a49a-cd6a1a383578",
   "metadata": {},
   "outputs": [
    {
     "name": "stdout",
     "output_type": "stream",
     "text": [
      "Frederic Lanchester\n"
     ]
    }
   ],
   "source": [
    "ask_t5('Car windshield wipers were developed in 1911 by whom?')"
   ]
  },
  {
   "cell_type": "code",
   "execution_count": 19,
   "id": "6e60be6d-db29-46fb-9fdd-f39b175c2348",
   "metadata": {},
   "outputs": [
    {
     "name": "stdout",
     "output_type": "stream",
     "text": [
      "CABO VERDE\n"
     ]
    }
   ],
   "source": [
    "ask_t5('Which country achieved independence from portugal in 1975?')"
   ]
  },
  {
   "cell_type": "code",
   "execution_count": 22,
   "id": "c50674bb-ec9a-4f40-80af-ab270beb3b50",
   "metadata": {},
   "outputs": [
    {
     "name": "stdout",
     "output_type": "stream",
     "text": [
      "'RUNAWAY ROSE'\n"
     ]
    }
   ],
   "source": [
    "ask_t5('Author maeve binchy wrote which novel?')"
   ]
  },
  {
   "cell_type": "code",
   "execution_count": 23,
   "id": "3f35ca16-a7fc-4217-8594-659fe1d45aeb",
   "metadata": {},
   "outputs": [
    {
     "name": "stdout",
     "output_type": "stream",
     "text": [
      "Japan\n"
     ]
    }
   ],
   "source": [
    "ask_t5('iwo jima is found in which country?')"
   ]
  },
  {
   "cell_type": "code",
   "execution_count": 34,
   "id": "43bd2d63-d62e-482b-9083-b221b30ff648",
   "metadata": {},
   "outputs": [
    {
     "name": "stdout",
     "output_type": "stream",
     "text": [
      "Bonin Islands\n"
     ]
    }
   ],
   "source": [
    "ask_t5('Iwo jima is the largest of what islands?')"
   ]
  },
  {
   "cell_type": "code",
   "execution_count": 24,
   "id": "fc8834d3-5fa3-4369-ba6d-4f88b87fbb5c",
   "metadata": {},
   "outputs": [
    {
     "name": "stdout",
     "output_type": "stream",
     "text": [
      "Richard Nixon\n"
     ]
    }
   ],
   "source": [
    "ask_t5('Gerald ford became US vice president when who resigned?')"
   ]
  },
  {
   "cell_type": "code",
   "execution_count": 26,
   "id": "65bb3614-9fb4-4066-8555-d1422401a679",
   "metadata": {},
   "outputs": [
    {
     "name": "stdout",
     "output_type": "stream",
     "text": [
      "Polaroid\n"
     ]
    }
   ],
   "source": [
    "ask_t5('George eastman invented which camera?')"
   ]
  },
  {
   "cell_type": "code",
   "execution_count": 31,
   "id": "35b8f07c-5ec7-4cdf-b193-c8366ccbfdad",
   "metadata": {},
   "outputs": [
    {
     "name": "stdout",
     "output_type": "stream",
     "text": [
      "Imarlyno-s no-smo-smo-sm\n"
     ]
    }
   ],
   "source": [
    "ask_t5('Amelia Earhart was the first woman to make a solo flight across which ocean?')"
   ]
  },
  {
   "cell_type": "code",
   "execution_count": 32,
   "id": "b4bdaf55-b297-49c9-80f0-333fa5517355",
   "metadata": {},
   "outputs": [
    {
     "name": "stdout",
     "output_type": "stream",
     "text": [
      "La Dolce Vita\n"
     ]
    }
   ],
   "source": [
    "ask_t5('federico fellini directed what movie?')"
   ]
  },
  {
   "cell_type": "code",
   "execution_count": null,
   "id": "057de43e-2666-47b6-b64c-cba7866a1626",
   "metadata": {},
   "outputs": [],
   "source": []
  }
 ],
 "metadata": {
  "kernelspec": {
   "display_name": "Python 3 (ipykernel)",
   "language": "python",
   "name": "python3"
  },
  "language_info": {
   "codemirror_mode": {
    "name": "ipython",
    "version": 3
   },
   "file_extension": ".py",
   "mimetype": "text/x-python",
   "name": "python",
   "nbconvert_exporter": "python",
   "pygments_lexer": "ipython3",
   "version": "3.10.2"
  }
 },
 "nbformat": 4,
 "nbformat_minor": 5
}
