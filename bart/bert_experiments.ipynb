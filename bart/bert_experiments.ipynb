{
 "cells": [
  {
   "cell_type": "code",
   "execution_count": null,
   "id": "90721b1e-6ebd-483f-835d-45f82e151d38",
   "metadata": {},
   "outputs": [],
   "source": [
    "! pip install transformers\n",
    "! pip install torch"
   ]
  },
  {
   "cell_type": "code",
   "execution_count": 2,
   "id": "8b8d72d1-3795-4735-a0de-92eb192607fb",
   "metadata": {},
   "outputs": [],
   "source": [
    "import sys\n",
    "\n",
    "my_path = '/home/alif/.local/lib/python3.10/site-packages'\n",
    "sys.path.insert(0, my_path)"
   ]
  },
  {
   "cell_type": "code",
   "execution_count": null,
   "id": "d476a69f-eb24-4b96-8aa8-03fff321480d",
   "metadata": {},
   "outputs": [],
   "source": [
    "# https://huggingface.co/docs/transformers/model_doc/bert-generation#bertgeneration"
   ]
  },
  {
   "cell_type": "code",
   "execution_count": null,
   "id": "68d89286-6dbe-4fdc-9c27-35f04c1272cf",
   "metadata": {},
   "outputs": [],
   "source": [
    "from transformers import AutoTokenizer, EncoderDecoderModel\n",
    "\n",
    "# instantiate sentence fusion model\n",
    "sentence_fuser = EncoderDecoderModel.from_pretrained(\"google/roberta2roberta_L-24_discofuse\")\n",
    "tokenizer = AutoTokenizer.from_pretrained(\"google/roberta2roberta_L-24_discofuse\")"
   ]
  },
  {
   "cell_type": "code",
   "execution_count": 7,
   "id": "46041077-674f-486d-8897-500c7c26d3a9",
   "metadata": {},
   "outputs": [
    {
     "name": "stdout",
     "output_type": "stream",
     "text": [
      "<s><sep_4><sep_4><sep_4></s>\n"
     ]
    }
   ],
   "source": [
    "input_ids = tokenizer(\n",
    "    \"Tom Cruise's mother is \", add_special_tokens=False, return_tensors=\"pt\"\n",
    ").input_ids\n",
    "\n",
    "outputs = sentence_fuser.generate(input_ids)\n",
    "\n",
    "print(tokenizer.decode(outputs[0]))"
   ]
  },
  {
   "cell_type": "code",
   "execution_count": 12,
   "id": "cd8171cb-6849-4e5c-8385-0e9c727139ef",
   "metadata": {},
   "outputs": [],
   "source": [
    "from transformers import BartForConditionalGeneration, BartTokenizer\n",
    "\n",
    "model = BartForConditionalGeneration.from_pretrained(\"facebook/bart-large\", forced_bos_token_id=0)\n",
    "tok = BartTokenizer.from_pretrained(\"facebook/bart-large\")\n",
    "example_english_phrase = \"UN Chief Says There Is No <mask> in Syria\"\n",
    "batch = tok(example_english_phrase, return_tensors=\"pt\")\n",
    "generated_ids = model.generate(batch[\"input_ids\"])"
   ]
  },
  {
   "cell_type": "code",
   "execution_count": 13,
   "id": "ca6f2623-9d14-4f4a-bcde-14cd5d524b01",
   "metadata": {},
   "outputs": [
    {
     "data": {
      "text/plain": [
       "[' to to to to to to to to to to to to to to to to to']"
      ]
     },
     "execution_count": 13,
     "metadata": {},
     "output_type": "execute_result"
    }
   ],
   "source": [
    "tok.batch_decode(generated_ids, skip_special_tokens=True)"
   ]
  },
  {
   "cell_type": "code",
   "execution_count": 15,
   "id": "71cf3689-2806-4cfc-b387-8c90aea93181",
   "metadata": {},
   "outputs": [],
   "source": [
    "from transformers import AutoTokenizer, BartForConditionalGeneration\n",
    "\n",
    "tokenizer = AutoTokenizer.from_pretrained(\"facebook/bart-base\")\n",
    "model = BartForConditionalGeneration.from_pretrained(\"facebook/bart-base\")"
   ]
  },
  {
   "cell_type": "code",
   "execution_count": 21,
   "id": "15075c7f-ad84-4751-93cc-5ac456806286",
   "metadata": {},
   "outputs": [
    {
     "data": {
      "text/plain": [
       "[':', '\"', 'Mary', 'Elizabeth', 'Carrie']"
      ]
     },
     "execution_count": 21,
     "metadata": {},
     "output_type": "execute_result"
    }
   ],
   "source": [
    "TXT = \"The first name of Tom Cruise's mother is <mask>\"\n",
    "input_ids = tokenizer([TXT], return_tensors=\"pt\")[\"input_ids\"]\n",
    "logits = model(input_ids).logits\n",
    "\n",
    "masked_index = (input_ids[0] == tokenizer.mask_token_id).nonzero().item()\n",
    "probs = logits[0, masked_index].softmax(dim=0)\n",
    "values, predictions = probs.topk(5)\n",
    "\n",
    "tokenizer.decode(predictions).split()"
   ]
  },
  {
   "cell_type": "code",
   "execution_count": 23,
   "id": "f6920313-1b21-4e01-95ea-d3e92068a1db",
   "metadata": {},
   "outputs": [
    {
     "data": {
      "text/plain": [
       "[':', 'not', 'unknown', 'listed', 'given']"
      ]
     },
     "execution_count": 23,
     "metadata": {},
     "output_type": "execute_result"
    }
   ],
   "source": [
    "TXT = \"The name of Mary Lee Pfeiffer's son is <mask>\"\n",
    "input_ids = tokenizer([TXT], return_tensors=\"pt\")[\"input_ids\"]\n",
    "logits = model(input_ids).logits\n",
    "\n",
    "masked_index = (input_ids[0] == tokenizer.mask_token_id).nonzero().item()\n",
    "probs = logits[0, masked_index].softmax(dim=0)\n",
    "values, predictions = probs.topk(5)\n",
    "\n",
    "tokenizer.decode(predictions).split()"
   ]
  },
  {
   "cell_type": "code",
   "execution_count": 24,
   "id": "c97b6aa1-c507-4099-853e-43391a1614fd",
   "metadata": {},
   "outputs": [
    {
     "name": "stderr",
     "output_type": "stream",
     "text": [
      "Some weights of BartForCausalLM were not initialized from the model checkpoint at facebook/bart-base and are newly initialized: ['decoder.embed_tokens.weight', 'lm_head.weight']\n",
      "You should probably TRAIN this model on a down-stream task to be able to use it for predictions and inference.\n"
     ]
    },
    {
     "data": {
      "text/plain": [
       "True"
      ]
     },
     "execution_count": 24,
     "metadata": {},
     "output_type": "execute_result"
    }
   ],
   "source": [
    "from transformers import AutoTokenizer, BartForCausalLM\n",
    "\n",
    "tokenizer = AutoTokenizer.from_pretrained(\"facebook/bart-base\")\n",
    "model = BartForCausalLM.from_pretrained(\"facebook/bart-base\", add_cross_attention=False)\n",
    "assert model.config.is_decoder, f\"{model.__class__} has to be configured as a decoder.\"\n",
    "inputs = tokenizer(\"Hello, my dog is cute\", return_tensors=\"pt\")\n",
    "outputs = model(**inputs)\n",
    "\n",
    "logits = outputs.logits\n",
    "expected_shape = [1, inputs.input_ids.shape[-1], model.config.vocab_size]\n",
    "list(logits.shape) == expected_shape"
   ]
  },
  {
   "cell_type": "code",
   "execution_count": 26,
   "id": "68d1687b-e76f-4896-aa01-5a9adaa6a885",
   "metadata": {},
   "outputs": [
    {
     "data": {
      "text/plain": [
       "[1, 8, 50265]"
      ]
     },
     "execution_count": 26,
     "metadata": {},
     "output_type": "execute_result"
    }
   ],
   "source": [
    "expected_shape"
   ]
  },
  {
   "cell_type": "code",
   "execution_count": 29,
   "id": "1b01e8d7-da5f-4cb4-b3c4-60bf7b987f5d",
   "metadata": {},
   "outputs": [
    {
     "name": "stderr",
     "output_type": "stream",
     "text": [
      "Some weights of BartForCausalLM were not initialized from the model checkpoint at facebook/bart-base and are newly initialized: ['decoder.embed_tokens.weight', 'lm_head.weight']\n",
      "You should probably TRAIN this model on a down-stream task to be able to use it for predictions and inference.\n"
     ]
    },
    {
     "data": {
      "text/plain": [
       "True"
      ]
     },
     "execution_count": 29,
     "metadata": {},
     "output_type": "execute_result"
    }
   ],
   "source": [
    "from transformers import AutoTokenizer, BartForCausalLM\n",
    "\n",
    "tokenizer = AutoTokenizer.from_pretrained(\"facebook/bart-base\")\n",
    "model = BartForCausalLM.from_pretrained(\"facebook/bart-base\", add_cross_attention=False)\n",
    "assert model.config.is_decoder, f\"{model.__class__} has to be configured as a decoder.\"\n",
    "inputs = tokenizer(\"Hello, my dog is cute\", return_tensors=\"pt\")\n",
    "outputs = model(**inputs)\n",
    "\n",
    "logits = outputs.logits\n",
    "expected_shape = [1, inputs.input_ids.shape[-1], model.config.vocab_size]\n",
    "list(logits.shape) == expected_shape"
   ]
  },
  {
   "cell_type": "code",
   "execution_count": 34,
   "id": "a5aa558c-121d-42ba-bd29-7b079a6bbf3e",
   "metadata": {},
   "outputs": [],
   "source": [
    "outputs = model.generate(**inputs)"
   ]
  },
  {
   "cell_type": "code",
   "execution_count": 35,
   "id": "d00d23af-ba09-447f-b73a-0e462f1bd4c8",
   "metadata": {},
   "outputs": [
    {
     "data": {
      "text/plain": [
       "['Hello, my dog is cute to to to to to to to to to to to']"
      ]
     },
     "execution_count": 35,
     "metadata": {},
     "output_type": "execute_result"
    }
   ],
   "source": [
    "tokenizer.batch_decode(outputs, skip_special_tokens=True)"
   ]
  }
 ],
 "metadata": {
  "kernelspec": {
   "display_name": "Python 3 (ipykernel)",
   "language": "python",
   "name": "python3"
  },
  "language_info": {
   "codemirror_mode": {
    "name": "ipython",
    "version": 3
   },
   "file_extension": ".py",
   "mimetype": "text/x-python",
   "name": "python",
   "nbconvert_exporter": "python",
   "pygments_lexer": "ipython3",
   "version": "3.10.2"
  }
 },
 "nbformat": 4,
 "nbformat_minor": 5
}
